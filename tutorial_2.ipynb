{
  "nbformat": 4,
  "nbformat_minor": 0,
  "metadata": {
    "colab": {
      "provenance": [],
      "include_colab_link": true
    },
    "kernelspec": {
      "name": "python3",
      "display_name": "Python 3"
    },
    "language_info": {
      "name": "python"
    }
  },
  "cells": [
    {
      "cell_type": "markdown",
      "metadata": {
        "id": "view-in-github",
        "colab_type": "text"
      },
      "source": [
        "<a href=\"https://colab.research.google.com/github/xshen796/CodingClubPsych/blob/master/tutorial_2.ipynb\" target=\"_parent\"><img src=\"https://colab.research.google.com/assets/colab-badge.svg\" alt=\"Open In Colab\"/></a>"
      ]
    },
    {
      "cell_type": "markdown",
      "metadata": {
        "id": "cjdJukgB8ETI"
      },
      "source": [
        "# Colocalization Practical 2\n",
        "Ville Karhunen \n",
        "\n",
        "\n",
        "Autumn 2021"
      ]
    },
    {
      "cell_type": "markdown",
      "metadata": {
        "id": "_UzYqzZSCeoE"
      },
      "source": [
        "# Introduction\n",
        "\n",
        "This practical demonstrates the use of HyPrColoc for multiple trait colocalization.\n",
        "Angiotensin converting enzyme (ACE) inhibitors are a common class of medication used to treat hypertension, and here, we will examine whether this mechanism is related to reduction in Alzheimer's disease risk (Ryan et al. 2021)."
      ]
    },
    {
      "cell_type": "markdown",
      "metadata": {
        "id": "zYQLHduDxkH3"
      },
      "source": [
        "#Housekeeping\n",
        "\n",
        "In this section, we will configure the google colaboratory notebook to be linked with our google drive account, assign it to an R coding environment and set the working directory to your google drive folder. Finally, we will import various libraries from the 'R_libs' folder. \n",
        "\n",
        "Note: \n",
        "Google cloud platform mostly runs python. However, we can use a magic function (%%R) at the start of every cell to make that cell run R code. That is why you see **%%R** in all of the cells below. This is not required in an environment that is natively designed to run on R, such as Rstudio. "
      ]
    },
    {
      "cell_type": "code",
      "metadata": {
        "colab": {
          "base_uri": "https://localhost:8080/"
        },
        "id": "zwhRQBrExkqk",
        "outputId": "32ab96b3-9004-4b0a-c71c-7aaf91d064a7"
      },
      "source": [
        "#Load up the google drive - note this does not need the R magic function as it is a python code! \n",
        "from google.colab import drive\n",
        "import os\n",
        "drive.mount('/content/drive')"
      ],
      "execution_count": null,
      "outputs": [
        {
          "output_type": "stream",
          "name": "stdout",
          "text": [
            "Mounted at /content/drive\n"
          ]
        }
      ]
    },
    {
      "cell_type": "code",
      "metadata": {
        "id": "Vq3Pfa4Qxoc7"
      },
      "source": [
        "#Enable R - %%R is still required at the start of each cell to run the code in R \n",
        "%load_ext rpy2.ipython"
      ],
      "execution_count": null,
      "outputs": []
    },
    {
      "cell_type": "code",
      "metadata": {
        "id": "FB8wKBIfxqAx"
      },
      "source": [
        "#Set working directory - this uses the python package 'os' to set our working directory as the google drive folder\n",
        "#Again this is written in python code and we do not need to warn the notebook that the code is in R \n",
        "os.chdir('/content/drive/MyDrive')"
      ],
      "execution_count": null,
      "outputs": []
    },
    {
      "cell_type": "markdown",
      "metadata": {
        "id": "djLLfHTnK370"
      },
      "source": [
        "Install the relevant packages: \n",
        "\n"
      ]
    },
    {
      "cell_type": "code",
      "metadata": {
        "id": "ZD9LT5f6DOBS",
        "colab": {
          "base_uri": "https://localhost:8080/"
        },
        "outputId": "fa8dd8bd-e2f7-4948-c845-a4956cc83613"
      },
      "source": [
        "#Import libraries in R - note: the use of %%R denoting that the code in this cell is written in R! \n",
        "%%R\n",
        "library(hyprcoloc, lib = '/content/drive/MyDrive/coloc_tutorials/R_libs')\n",
        "library(ggplot2, lib = '/content/drive/MyDrive/coloc_tutorials/R_libs')\n",
        "library(ggpubr, lib = '/content/drive/MyDrive/coloc_tutorials/R_libs')\n",
        "library(plyr, lib = '/content/drive/MyDrive/coloc_tutorials/R_libs')\n",
        "library(data.table, lib = '/content/drive/MyDrive/coloc_tutorials/R_libs')\n",
        "library(cowplot, lib = '/content/drive/MyDrive/coloc_tutorials/R_libs')"
      ],
      "execution_count": null,
      "outputs": [
        {
          "output_type": "stream",
          "name": "stderr",
          "text": [
            "R[write to console]: \n",
            "Attaching package: ‘plyr’\n",
            "\n",
            "\n",
            "R[write to console]: The following object is masked from ‘package:ggpubr’:\n",
            "\n",
            "    mutate\n",
            "\n",
            "\n",
            "R[write to console]: data.table 1.14.2 using 1 threads (see ?getDTthreads).  Latest news: r-datatable.com\n",
            "\n",
            "R[write to console]: \n",
            "Attaching package: ‘cowplot’\n",
            "\n",
            "\n",
            "R[write to console]: The following object is masked from ‘package:ggpubr’:\n",
            "\n",
            "    get_legend\n",
            "\n",
            "\n"
          ]
        }
      ]
    },
    {
      "cell_type": "markdown",
      "metadata": {
        "id": "j1PEFGEGQdbA"
      },
      "source": [
        "# Read data\n",
        "\n",
        "For convenience, a single '.RData' file is provided, which includes the following objects:\n",
        "\n",
        "* 'd1' -- genetic associations for ACE gene expression levels in brain cortex within *ACE* gene, [de Klein et al. (2021)](https://doi.org/10.1101/2021.03.01.433439)\n",
        "\n",
        "* 'd2' -- genetic associations for systolic blood pressure within *ACE* gene, [Evangelou et al. (2018)](https://doi.org/10.1038/s41588-018-0205-x)\n",
        "\n",
        "* 'd3' -- genetic associations for Alzheimer's disease risk within *ACE* gene, [de Rojas et al. (2021)](https://doi.org/10.1038/s41467-021-22491-8)"
      ]
    },
    {
      "cell_type": "code",
      "metadata": {
        "id": "pw7SnbMjQQ1z",
        "colab": {
          "base_uri": "https://localhost:8080/"
        },
        "outputId": "e91c9fed-de6f-4d32-d51e-fad9ba7f0129"
      },
      "source": [
        "#import data \n",
        "%%R\n",
        "d1 <- fread('https://storage.googleapis.com/gidd_mr_course/ace_eqtl.csv')\n",
        "d2 <- fread('https://storage.googleapis.com/gidd_mr_course/coloc_sbp.csv')\n",
        "d3 <- fread('https://storage.googleapis.com/gidd_mr_course/coloc_ace.csv')"
      ],
      "execution_count": null,
      "outputs": [
        {
          "output_type": "stream",
          "name": "stderr",
          "text": [
            " [7%] Downloaded 692 bytes...\n",
            " [22%] Downloaded 2078 bytes...\n",
            " [38%] Downloaded 3464 bytes...\n",
            " [53%] Downloaded 4850 bytes...\n",
            " [68%] Downloaded 6236 bytes...\n",
            " [77%] Downloaded 7029 bytes...\n",
            " [92%] Downloaded 8415 bytes...\n",
            " [100%] Downloaded 9064 bytes...\n",
            "R[write to console]: \n",
            "\n",
            " [8%] Downloaded 685 bytes...\n",
            " [26%] Downloaded 2071 bytes...\n",
            " [44%] Downloaded 3457 bytes...\n",
            " [62%] Downloaded 4843 bytes...\n",
            " [79%] Downloaded 6229 bytes...\n",
            " [89%] Downloaded 7025 bytes...\n",
            " [100%] Downloaded 7806 bytes...\n",
            "R[write to console]: \n",
            "\n",
            " [5%] Downloaded 683 bytes...\n",
            " [16%] Downloaded 2069 bytes...\n",
            " [27%] Downloaded 3455 bytes...\n",
            " [39%] Downloaded 4841 bytes...\n",
            " [50%] Downloaded 6227 bytes...\n",
            " [56%] Downloaded 7020 bytes...\n",
            " [67%] Downloaded 8406 bytes...\n",
            " [78%] Downloaded 9792 bytes...\n",
            " [90%] Downloaded 11178 bytes...\n",
            " [100%] Downloaded 12408 bytes...\n",
            "R[write to console]: \n",
            "\n"
          ]
        }
      ]
    },
    {
      "cell_type": "code",
      "metadata": {
        "id": "GwlU3N_G8q4i"
      },
      "source": [
        "# add the following three rows:\n",
        "%%R\n",
        "d1$V1 <- NULL\n",
        "d2$V1 <- NULL\n",
        "d3$V1 <- NULL"
      ],
      "execution_count": null,
      "outputs": []
    },
    {
      "cell_type": "markdown",
      "metadata": {
        "id": "8UXEmOqta5bR"
      },
      "source": [
        "Visualizing the genetic associations:"
      ]
    },
    {
      "cell_type": "code",
      "metadata": {
        "colab": {
          "base_uri": "https://localhost:8080/",
          "height": 497
        },
        "id": "y4EHYTnVQjZk",
        "outputId": "3aaac45f-bd5c-4983-83c6-6f9932d1ff89"
      },
      "source": [
        "%%R\n",
        "p1 <- ggplot(d1, aes(x = POS, y = -log10(p_cortex))) +\n",
        "  geom_point() +\n",
        "  labs(x = \"\", y = bquote(-log[10](italic(p))),\n",
        "       title = \"ACE expression in cortex\") +\n",
        "  theme_bw() +\n",
        "  theme(plot.title = element_text(hjust = 0.5)) +\n",
        "  scale_x_continuous(breaks = c(61550000, 61575000, 61600000),\n",
        "                     labels = c(61550, 61575, 61600))\n",
        "\n",
        "p2 <- ggplot(d2, aes(x = POS, y = -log10(p_sbp))) +\n",
        "  geom_point() +\n",
        "  labs(x = \"\", y = bquote(-log[10](italic(p))),\n",
        "         title = \"Systolic blood pressure\") +\n",
        "  theme_bw() +\n",
        "  theme(plot.title = element_text(hjust = 0.5)) +\n",
        "  scale_x_continuous(breaks = c(61550000, 61575000, 61600000),\n",
        "                     labels = c(61550, 61575, 61600))\n",
        "\n",
        "p3 <- ggplot(d3, aes(x = POS, y = -log10(p_ad))) +\n",
        "  geom_point() +\n",
        "  labs(x = \"\", y = bquote(-log[10](italic(p))),\n",
        "         title = \"Alzheimer's disease risk\") +\n",
        "  theme_bw() +\n",
        "  theme(plot.title = element_text(hjust = 0.5)) +\n",
        "  scale_x_continuous(name = paste0(\"Chromosome 17 Position (kb)\"),\n",
        "                     breaks = c(61550000, 61575000, 61600000),\n",
        "                     labels = c(61550, 61575, 61600))\n",
        "\n",
        "\n",
        "ggpubr::ggarrange(p1, p2, p3,\n",
        " heights = c(1, 1, 1), nrow = 3, \n",
        " ncol = 1, align = \"hv\")\n"
      ],
      "execution_count": null,
      "outputs": [
        {
          "output_type": "display_data",
          "data": {
            "image/png": "[encoded data removed]"
          },
          "metadata": {}
        }
      ]
    },
    {
      "cell_type": "markdown",
      "metadata": {
        "id": "oGUssvJFbMuj"
      },
      "source": [
        "We will prepare these data for HyPrcoloc."
      ]
    },
    {
      "cell_type": "code",
      "metadata": {
        "id": "-Houb2qyfWJZ"
      },
      "source": [
        "%%R\n",
        "d0 <- data.frame(rsid = unique(c(d1$rsid, d2$rsid, d3$rsid)))"
      ],
      "execution_count": null,
      "outputs": []
    },
    {
      "cell_type": "code",
      "metadata": {
        "colab": {
          "base_uri": "https://localhost:8080/"
        },
        "id": "xVswuj4rhP-m",
        "outputId": "f80478ad-ff06-4e3b-8078-59d33e425ffe"
      },
      "source": [
        "%%R\n",
        "d_hyprcoloc <- Reduce(function(x, y) plyr::join(x, y), list(d0, d1, d2, d3))\n",
        "d_hyprcoloc <- d_hyprcoloc[complete.cases(d_hyprcoloc),]"
      ],
      "execution_count": null,
      "outputs": [
        {
          "output_type": "stream",
          "name": "stderr",
          "text": [
            "R[write to console]: Joining by: rsid\n",
            "\n",
            "R[write to console]: Joining by: rsid, CHR, POS\n",
            "\n",
            "R[write to console]: Joining by: rsid, CHR, POS\n",
            "\n"
          ]
        }
      ]
    },
    {
      "cell_type": "code",
      "metadata": {
        "id": "7Jmw_JWpdzeG"
      },
      "source": [
        "%%R\n",
        "betas <- as.matrix(d_hyprcoloc[,grepl(\"beta_\", names(d_hyprcoloc))])\n",
        "ses <- as.matrix(d_hyprcoloc[,grepl(\"se_\", names(d_hyprcoloc))])"
      ],
      "execution_count": null,
      "outputs": []
    },
    {
      "cell_type": "markdown",
      "metadata": {
        "id": "TnUKORMXh3c4"
      },
      "source": [
        "Next, we run HyPrColoc.\n",
        "For prior probabilities, we use the default values: the prior probability for a variant associated with one trait = 1e-4, and the probability of a variant associated with another trait = 0.98.\n",
        "See the [package vignette](https://rdrr.io/github/jrs95/hyprcoloc/f/vignettes/hyprcoloc.Rmd) for detailed information."
      ]
    },
    {
      "cell_type": "code",
      "metadata": {
        "colab": {
          "base_uri": "https://localhost:8080/"
        },
        "id": "-52L9Bfcd3E6",
        "outputId": "139dc27e-a4fe-4922-8003-841d603273f4"
      },
      "source": [
        "%%R\n",
        "hyprcoloc_results <- hyprcoloc(betas, ses, trait.names = c(\"cortex\", \"sbp\", \"ad\"), snp.id = d_hyprcoloc$rsid,\n",
        "                               binary.outcomes = c(0, 0, 1),\n",
        "                               prior.1 = 1e-04, prior.c = 0.02)\n",
        "hyprcoloc_results$results"
      ],
      "execution_count": null,
      "outputs": [
        {
          "output_type": "stream",
          "name": "stdout",
          "text": [
            "  iteration          traits posterior_prob regional_prob candidate_snp\n",
            "1         1 cortex, sbp, ad         0.8267             1        rs4291\n",
            "  posterior_explained_by_snp dropped_trait\n",
            "1                     0.3676            NA\n"
          ]
        }
      ]
    },
    {
      "cell_type": "code",
      "metadata": {
        "id": "sLxx7LMyHtvN"
      },
      "source": [],
      "execution_count": null,
      "outputs": []
    }
  ]
}